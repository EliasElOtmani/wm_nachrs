{
 "cells": [
  {
   "cell_type": "code",
   "execution_count": 1,
   "metadata": {},
   "outputs": [],
   "source": [
    "import numpy as np\n",
    "from numpy import nan\n",
    "from scipy import optimize\n",
    "import os, sys, time, torch\n",
    "from tqdm import tqdm\n",
    "import matplotlib.pyplot as plt\n",
    "from CCM import CCM\n",
    "from simpler_CCM import simpler_CCM\n",
    "from DMTS import DMTS"
   ]
  },
  {
   "cell_type": "code",
   "execution_count": 2,
   "metadata": {},
   "outputs": [],
   "source": [
    "from tqdm.notebook import tqdm"
   ]
  },
  {
   "cell_type": "markdown",
   "metadata": {},
   "source": [
    "# Single population"
   ]
  },
  {
   "cell_type": "code",
   "execution_count": 3,
   "metadata": {},
   "outputs": [],
   "source": [
    "computer = \"cpu\"\n",
    "dev_str = 'cpu'\n",
    "cores = 6\n",
    "num_workers = 4 * cores\n",
    "enc = torch.float64\n",
    "dev = torch.device(computer)\n",
    "\n",
    "info = True\n",
    "reject = True \n",
    "plot = False \n",
    "\n",
    "mod_prm = torch.as_tensor([.020, .600, 4.5, 0., 1.9, 2.6, 1.5, 1.2, 7., 7., 7., 7., 1/45], device=dev, dtype=enc)\n",
    "sim_prm = torch.as_tensor([5., .01, 1., 1e-12, 1e-3, nan], device=dev, dtype=enc)"
   ]
  },
  {
   "cell_type": "markdown",
   "metadata": {},
   "source": [
    "## First explorations"
   ]
  },
  {
   "cell_type": "code",
   "execution_count": 4,
   "metadata": {},
   "outputs": [],
   "source": [
    "Ae, Ap, As, Av = 169, 268, 709, 634\n",
    "dof = torch.as_tensor([\n",
    "    \n",
    "    Ae, Ap, As, Av, # Ae, Ap, As, Av (4)\n",
    "    # wee, \t  wpe,     wse,     wes,     wvs,     wep,     wpp,     wsp,     wev,     wsv (10) :\n",
    "    .136*Ae, .101*Ap, .002*As, .077*Ae, .048*Av, .112*Ae, .093*Ap, .0*As, .041*Ae, .001*As, \n",
    "    3.9, 4.5, 3.6, 2.9, # Ie_ext, Ip_ext, Is_ext, Iv_ext (5)\n",
    "    0.8, .0598*Ae, .02 # q, J_adp, sigma (3)\n",
    "    \n",
    "], device=dev, dtype=enc)"
   ]
  },
  {
   "cell_type": "code",
   "execution_count": 4,
   "metadata": {},
   "outputs": [],
   "source": [
    "ccm = CCM(dof, mod_prm, sim_prm)\n",
    "dmts = DMTS(ccm)"
   ]
  },
  {
   "cell_type": "code",
   "execution_count": 5,
   "metadata": {
    "scrolled": true
   },
   "outputs": [
    {
     "name": "stdout",
     "output_type": "stream",
     "text": [
      "Number of trials :\t 5 \n",
      "Successful operations :\t 5 \t 5 \t 0 \n",
      "Ratios :\t\t 1.0 \t 1.0 \t 0.0\n"
     ]
    }
   ],
   "source": [
    "dmts.print_stats()"
   ]
  },
  {
   "cell_type": "code",
   "execution_count": 6,
   "metadata": {},
   "outputs": [
    {
     "data": {
      "image/png": "[encoded data removed]",
      "text/plain": [
       "<Figure size 432x288 with 1 Axes>"
      ]
     },
     "metadata": {
      "needs_background": "light"
     },
     "output_type": "display_data"
    }
   ],
   "source": [
    "dmts.plot_trials(0)"
   ]
  },
  {
   "cell_type": "code",
   "execution_count": 7,
   "metadata": {},
   "outputs": [
    {
     "data": {
      "text/plain": [
       "[array([0.6032665 , 0.87046909, 0.50015718, 0.37357392]),\n",
       " array([0.61717318, 0.33423745, 3.29694262, 4.53982974]),\n",
       " array([10.91154219,  2.92078976,  8.64375169,  7.50461372])]"
      ]
     },
     "execution_count": 7,
     "metadata": {},
     "output_type": "execute_result"
    }
   ],
   "source": [
    "ccm.S"
   ]
  },
  {
   "cell_type": "markdown",
   "metadata": {},
   "source": [
    "## INs' Iext impact on memory stats"
   ]
  },
  {
   "cell_type": "code",
   "execution_count": 8,
   "metadata": {},
   "outputs": [],
   "source": [
    "task_prm = [30, 1, (1.850,1.950), (2.65, 2.75), (3.65,3.75)]"
   ]
  },
  {
   "cell_type": "code",
   "execution_count": 9,
   "metadata": {},
   "outputs": [
    {
     "name": "stdout",
     "output_type": "stream",
     "text": [
      "tensor(1.1000, dtype=torch.float64)\n"
     ]
    },
    {
     "data": {
      "application/vnd.jupyter.widget-view+json": {
       "model_id": "6e2abd07a4f64704a59d7de51fde005c",
       "version_major": 2,
       "version_minor": 0
      },
      "text/plain": [
       "HBox(children=(FloatProgress(value=0.0, max=20.0), HTML(value='')))"
      ]
     },
     "metadata": {},
     "output_type": "display_data"
    },
    {
     "name": "stdout",
     "output_type": "stream",
     "text": [
      "\n"
     ]
    }
   ],
   "source": [
    "## SOM\n",
    "\n",
    "dof_som = dof.clone()\n",
    "stats_som = []\n",
    "dof_som[16] -= 2.5\n",
    "\n",
    "print(dof_som[16])\n",
    "\n",
    "for i in tqdm(range(20)):\n",
    "    ccm = CCM(dof_som, mod_prm, sim_prm)\n",
    "    dmts = DMTS(ccm, task_prm)\n",
    "    stats_som.append(dmts.maintenances/dmts.nb_trials)\n",
    "    dof_som[16] += 0.25"
   ]
  },
  {
   "cell_type": "code",
   "execution_count": 10,
   "metadata": {},
   "outputs": [
    {
     "data": {
      "application/vnd.jupyter.widget-view+json": {
       "model_id": "54f5d6760cb24935913bf559fdf71517",
       "version_major": 2,
       "version_minor": 0
      },
      "text/plain": [
       "HBox(children=(FloatProgress(value=0.0, max=20.0), HTML(value='')))"
      ]
     },
     "metadata": {},
     "output_type": "display_data"
    },
    {
     "name": "stdout",
     "output_type": "stream",
     "text": [
      "\n"
     ]
    }
   ],
   "source": [
    "## VIP\n",
    "\n",
    "dof_vip = dof.clone()\n",
    "stats_vip = []\n",
    "dof_vip[17] -= 2.5\n",
    "\n",
    "for i in tqdm(range(20)):\n",
    "    ccm = CCM(dof_vip, mod_prm, sim_prm)\n",
    "    dmts = DMTS(ccm, task_prm)\n",
    "    stats_vip.append(dmts.maintenances/dmts.nb_trials)\n",
    "    dof_vip[17] += 0.25"
   ]
  },
  {
   "cell_type": "code",
   "execution_count": 11,
   "metadata": {},
   "outputs": [
    {
     "data": {
      "application/vnd.jupyter.widget-view+json": {
       "model_id": "1db8c92274b0467aaa0b058e5aace2d6",
       "version_major": 2,
       "version_minor": 0
      },
      "text/plain": [
       "HBox(children=(FloatProgress(value=0.0, max=20.0), HTML(value='')))"
      ]
     },
     "metadata": {},
     "output_type": "display_data"
    },
    {
     "name": "stdout",
     "output_type": "stream",
     "text": [
      "\n"
     ]
    }
   ],
   "source": [
    "## PV\n",
    "\n",
    "dof_pv = dof.clone()\n",
    "stats_pv = []\n",
    "dof_pv[15] -= 2.5\n",
    "\n",
    "for i in tqdm(range(20)):\n",
    "    ccm = CCM(dof_pv, mod_prm, sim_prm)\n",
    "    dmts = DMTS(ccm, task_prm)\n",
    "    stats_pv.append(dmts.maintenances/dmts.nb_trials)\n",
    "    dof_pv[15] += 0.25"
   ]
  },
  {
   "cell_type": "code",
   "execution_count": 12,
   "metadata": {},
   "outputs": [
    {
     "data": {
      "text/plain": [
       "[Text(0, 0.5, 'P(maintenance)'), Text(0.5, 0, 'Delta Iext')]"
      ]
     },
     "execution_count": 12,
     "metadata": {},
     "output_type": "execute_result"
    },
    {
     "data": {
      "image/png": "[encoded data removed]",
      "text/plain": [
       "<Figure size 432x288 with 1 Axes>"
      ]
     },
     "metadata": {
      "needs_background": "light"
     },
     "output_type": "display_data"
    }
   ],
   "source": [
    "x = [- 2.5 + 0.25*i for i in range(20)]\n",
    "\n",
    "fig, ax = plt.subplots()\n",
    "ax.plot(x, stats_som, color = 'orange')\n",
    "ax.plot(x, stats_vip, color = \"blue\")\n",
    "ax.plot(x, stats_pv, color = 'darkgreen')\n",
    "ax.vlines(x= 0, ymin = 0, ymax = 1, color = 'lightgrey')\n",
    "ax.legend(['SOM', 'VIP', 'PV'], loc = 'right')\n",
    "ax.set(xlabel = 'Delta Iext', ylabel = 'P(maintenance)')"
   ]
  },
  {
   "cell_type": "code",
   "execution_count": 11,
   "metadata": {},
   "outputs": [
    {
     "data": {
      "text/plain": [
       "\"\\nx = np.linspace(1, 100, 100)\\ny = 50*np.cos(x)\\n\\nplt.rcParams['axes.facecolor'] = 'white'\\n\\nfig, ax = plt.subplots()\\nax.plot(x)\\nax.plot(y)\\n\\n#ax.vlines(x = [5,10], ymin  = -50, ymax = 100, color = 'r') \\n#ax.vlines(x = [30,35], ymin  = -50, ymax = 100, color = 'b') \\n#ax.vlines(x = [50,60], ymin  = -50, ymax = 100, color = 'g') \\nax.hlines(y = 20, xmin = 0, xmax = len(x), linestyle = 'dashed')\\n\\nax.axvspan(5, 10, facecolor='b', alpha=0.2)\\n\\nax.set(title = 'DMTS - Example trial', xlabel = 'Time', ylabel = 'PYR firing rate')\\n#ax.legend(['red', 'blue', 'green'])\\nax.text(20, 80, 'an equation: $E=mc^2$', fontsize=13)\\n\\nplt.show()\\n\""
      ]
     },
     "execution_count": 11,
     "metadata": {},
     "output_type": "execute_result"
    }
   ],
   "source": [
    "'''\n",
    "x = np.linspace(1, 100, 100)\n",
    "y = 50*np.cos(x)\n",
    "\n",
    "plt.rcParams['axes.facecolor'] = 'white'\n",
    "\n",
    "fig, ax = plt.subplots()\n",
    "ax.plot(x)\n",
    "ax.plot(y)\n",
    "\n",
    "#ax.vlines(x = [5,10], ymin  = -50, ymax = 100, color = 'r') \n",
    "#ax.vlines(x = [30,35], ymin  = -50, ymax = 100, color = 'b') \n",
    "#ax.vlines(x = [50,60], ymin  = -50, ymax = 100, color = 'g') \n",
    "ax.hlines(y = 20, xmin = 0, xmax = len(x), linestyle = 'dashed')\n",
    "\n",
    "ax.axvspan(5, 10, facecolor='b', alpha=0.2)\n",
    "\n",
    "ax.set(title = 'DMTS - Example trial', xlabel = 'Time', ylabel = 'PYR firing rate')\n",
    "#ax.legend(['red', 'blue', 'green'])\n",
    "ax.text(20, 80, 'an equation: $E=mc^2$', fontsize=13)\n",
    "\n",
    "plt.show()\n",
    "'''"
   ]
  },
  {
   "cell_type": "code",
   "execution_count": 12,
   "metadata": {},
   "outputs": [],
   "source": [
    "#import seaborn as sns"
   ]
  },
  {
   "cell_type": "code",
   "execution_count": 13,
   "metadata": {},
   "outputs": [],
   "source": [
    "#x = np.linspace(1, 100, 1000)\n",
    "#y = 50*np.cos(x)\n",
    "#sns.lineplot(x, y)"
   ]
  },
  {
   "cell_type": "code",
   "execution_count": 14,
   "metadata": {},
   "outputs": [
    {
     "name": "stdout",
     "output_type": "stream",
     "text": [
      "[0. 0. 0. 0. 0. 0. 0. 0. 0. 0. 1. 1. 1. 1. 1. 1. 1. 1. 1. 1. 0. 0. 0. 0.\n",
      " 0. 0. 0. 0. 0. 0. 0. 0. 0. 0. 0. 0. 0. 0. 0. 0. 0. 0. 0. 0. 0. 0. 0. 0.\n",
      " 0. 0. 0. 0. 0. 0. 0. 0. 0. 0. 0. 0. 0. 0. 0. 0. 0. 0. 0. 0. 0. 0. 0. 0.\n",
      " 0. 0. 0. 0. 0. 0. 0. 0. 0. 0. 0. 0. 0. 0. 0. 0. 0. 0. 0. 0. 0. 0. 0. 0.\n",
      " 0. 0. 0. 0.]\n"
     ]
    }
   ],
   "source": [
    "#import importlib\n",
    "pulse = np.zeros(100) \n",
    "pulse[10:20] = 1 \n",
    "print(pulse)"
   ]
  }
 ],
 "metadata": {
  "kernelspec": {
   "display_name": "Python 3",
   "language": "python",
   "name": "python3"
  },
  "language_info": {
   "codemirror_mode": {
    "name": "ipython",
    "version": 3
   },
   "file_extension": ".py",
   "mimetype": "text/x-python",
   "name": "python",
   "nbconvert_exporter": "python",
   "pygments_lexer": "ipython3",
   "version": "3.8.3"
  }
 },
 "nbformat": 4,
 "nbformat_minor": 5
}
